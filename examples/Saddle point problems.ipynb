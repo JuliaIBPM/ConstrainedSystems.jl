{
 "cells": [
  {
   "cell_type": "markdown",
   "metadata": {},
   "source": [
    "# Saddle point systems"
   ]
  },
  {
   "cell_type": "code",
   "execution_count": 1,
   "metadata": {},
   "outputs": [],
   "source": [
    "using Revise"
   ]
  },
  {
   "cell_type": "code",
   "execution_count": 1,
   "metadata": {},
   "outputs": [
    {
     "name": "stderr",
     "output_type": "stream",
     "text": [
      "┌ Info: Recompiling stale cache file /Users/jeff/.julia/compiled/v1.2/ViscousFlow/2kdbn.ji for ViscousFlow [103da179-b3e4-57c1-99a4-586354eb2c5a]\n",
      "└ @ Base loading.jl:1240\n"
     ]
    }
   ],
   "source": [
    "using ViscousFlow"
   ]
  },
  {
   "cell_type": "code",
   "execution_count": 3,
   "metadata": {},
   "outputs": [],
   "source": [
    "using LinearAlgebra"
   ]
  },
  {
   "cell_type": "code",
   "execution_count": 42,
   "metadata": {},
   "outputs": [
    {
     "name": "stderr",
     "output_type": "stream",
     "text": [
      "┌ Warning: /Users/jeff/.julia/packages/Plots/RsO3g/src/Plots.jl/ is not an existing directory, Revise is not watching\n",
      "└ @ Revise /Users/jeff/.julia/packages/Revise/MgvIv/src/Revise.jl:492\n"
     ]
    }
   ],
   "source": [
    "using Plots\n",
    "pyplot()\n",
    "clibrary(:colorbrewer)\n",
    "default(grid = false)"
   ]
  },
  {
   "cell_type": "code",
   "execution_count": 7,
   "metadata": {},
   "outputs": [
    {
     "name": "stdout",
     "output_type": "stream",
     "text": [
      "\u001b[32m\u001b[1m   Testing\u001b[22m\u001b[39m ViscousFlow\n",
      "\u001b[32m\u001b[1m Resolving\u001b[22m\u001b[39m package versions...\n",
      "Test Summary: | Pass  Total\n",
      "PointForce    |   13     13\n",
      "Test Summary: | Pass  Total\n",
      "Grid Routines |   84     84\n",
      "Test Summary:         | Pass  Total\n",
      "Complex Grid Routines |   73     73\n",
      "Test Summary: | Pass  Total\n",
      "Fields        |   27     27\n",
      "Test Summary:        | Pass  Total\n",
      "Point-Field Routines |   64     64\n",
      "Test Summary: | Pass  Total\n",
      "Double Layer  |    2      2\n",
      "Test Summary: | Pass  Total\n",
      "Single Layer  |    2      2\n",
      "Test Summary: | Pass  Total\n",
      "Masks         |    1      1\n",
      "Test Summary:        | Pass  Total\n",
      "Saddle-Point Systems |   33     33\n",
      "Test Summary: | Pass  Total\n",
      "Time Marching |    3      3\n",
      "Test Summary: | Pass  Total\n",
      "Navier-Stokes |   27     27\n",
      "\u001b[32m\u001b[1m   Testing\u001b[22m\u001b[39m ViscousFlow tests passed \n"
     ]
    }
   ],
   "source": [
    "using Pkg\n",
    "pkg\"test ViscousFlow\""
   ]
  },
  {
   "cell_type": "code",
   "execution_count": 84,
   "metadata": {},
   "outputs": [
    {
     "name": "stdout",
     "output_type": "stream",
     "text": [
      "search: \u001b[0m\u001b[1mS\u001b[22m\u001b[0m\u001b[1ma\u001b[22m\u001b[0m\u001b[1md\u001b[22m\u001b[0m\u001b[1md\u001b[22m\u001b[0m\u001b[1ml\u001b[22m\u001b[0m\u001b[1me\u001b[22m\u001b[0m\u001b[1mS\u001b[22m\u001b[0m\u001b[1my\u001b[22m\u001b[0m\u001b[1ms\u001b[22m\u001b[0m\u001b[1mt\u001b[22m\u001b[0m\u001b[1me\u001b[22m\u001b[0m\u001b[1mm\u001b[22m \u001b[0m\u001b[1mS\u001b[22m\u001b[0m\u001b[1ma\u001b[22m\u001b[0m\u001b[1md\u001b[22m\u001b[0m\u001b[1md\u001b[22m\u001b[0m\u001b[1ml\u001b[22m\u001b[0m\u001b[1me\u001b[22mPoint\u001b[0m\u001b[1mS\u001b[22m\u001b[0m\u001b[1my\u001b[22m\u001b[0m\u001b[1ms\u001b[22m\u001b[0m\u001b[1mt\u001b[22m\u001b[0m\u001b[1me\u001b[22m\u001b[0m\u001b[1mm\u001b[22ms\n",
      "\n"
     ]
    },
    {
     "data": {
      "text/latex": [
       "\\begin{verbatim}\n",
       "SaddleSystem\n",
       "\\end{verbatim}\n",
       "Construct a saddle-point system operator from the constituent operator blocks. The resulting object can be used with \\texttt{*} and \\texttt{{\\textbackslash}} to multiply and solve. The saddle-point problem has the form\n",
       "\n",
       "$\\begin{bmatrix}A & B_1^T \\\\ B_2 & C \\end{bmatrix} \\begin{pmatrix} u \\\\ f \\end{pmatrix} = \\begin{pmatrix} r_1 \\\\ r_2 \\end{pmatrix}$\n",
       "\n",
       "\\subsubsection{Constructors}\n",
       "\\texttt{SaddleSystem(A::AbstractMatrix,B₂::AbstractMatrix,B₁ᵀ::AbstractMatrix,C::AbstractMatrix[,eltype=Float64])}. Blocks are given as matrices. Must have consistent sizes to stack appropriately. If this is called with \\texttt{SaddleSystem(A,B₂,B₁ᵀ)}, it sets \\texttt{C} to zero automatically.\n",
       "\n",
       "\\texttt{SaddleSystem(A,B₂,B₁ᵀ,C,u,f[,eltype=Float64])}. Operators \\texttt{A}, \\texttt{B₂}, \\texttt{B₁ᵀ}, \\texttt{C} are given in various forms, including matrices, functions, and function-like objects. \\texttt{u} and \\texttt{f} are examples of the data types in the corresponding solution and right-hand side vectors. Guidelines:\n",
       "\n",
       "\\begin{itemize}\n",
       "\\item The entries \\texttt{A} and \\texttt{B₂} must be able to act upon \\texttt{u} (either by multiplication or as a function) and \\texttt{B₁ᵀ} and \\texttt{C} must be able to act on \\texttt{f} (also, either by multiplication or as a function).\n",
       "\n",
       "\n",
       "\\item \\texttt{A} and \\texttt{B₁ᵀ} should return data of type \\texttt{u}, and \\texttt{B₂} and \\texttt{C} should return data of type \\texttt{f}.\n",
       "\n",
       "\n",
       "\\item \\texttt{A} must be invertible and be outfitted with operators `\\texttt{and}ldiv!`.\n",
       "\n",
       "\n",
       "\\item Both \\texttt{u} and \\texttt{f} must be subtypes of \\texttt{AbstractArray}: they must be equipped with \\texttt{size} and \\texttt{vec} functions and with a constructor of the form \\texttt{T(data)} where \\texttt{T} is the data type of \\texttt{u} or \\texttt{f} and \\texttt{data} is the wrapped data array.\n",
       "\n",
       "\\end{itemize}\n",
       "If called as \\texttt{SaddleSystem(A,B₂,B₁ᵀ,u,f)}, the \\texttt{C} block is omitted and assumed to be zero.\n",
       "\n",
       "If called with \\texttt{SaddleSystem(A,u)}, this is equivalent to calling \\texttt{SaddleSystem(A,nothing,nothing,u,[])}, then this reverts to the unconstrained system described by operator \\texttt{A}.\n",
       "\n",
       "The list of vectors in any of these constructors can be replaced by a \\texttt{SaddleVector}, e.g. \\texttt{SaddleSystem(A,B₂,B₁ᵀ,SaddleVector(u,f))}.\n",
       "\n"
      ],
      "text/markdown": [
       "```\n",
       "SaddleSystem\n",
       "```\n",
       "\n",
       "Construct a saddle-point system operator from the constituent operator blocks. The resulting object can be used with `*` and `\\` to multiply and solve. The saddle-point problem has the form\n",
       "\n",
       "$\\begin{bmatrix}A & B_1^T \\\\ B_2 & C \\end{bmatrix} \\begin{pmatrix} u \\\\ f \\end{pmatrix} = \\begin{pmatrix} r_1 \\\\ r_2 \\end{pmatrix}$\n",
       "\n",
       "### Constructors\n",
       "\n",
       "`SaddleSystem(A::AbstractMatrix,B₂::AbstractMatrix,B₁ᵀ::AbstractMatrix,C::AbstractMatrix[,eltype=Float64])`. Blocks are given as matrices. Must have consistent sizes to stack appropriately. If this is called with `SaddleSystem(A,B₂,B₁ᵀ)`, it sets `C` to zero automatically.\n",
       "\n",
       "`SaddleSystem(A,B₂,B₁ᵀ,C,u,f[,eltype=Float64])`. Operators `A`, `B₂`, `B₁ᵀ`, `C` are given in various forms, including matrices, functions, and function-like objects. `u` and `f` are examples of the data types in the corresponding solution and right-hand side vectors. Guidelines:\n",
       "\n",
       "  * The entries `A` and `B₂` must be able to act upon `u` (either by multiplication or as a function) and `B₁ᵀ` and `C` must be able to act on `f` (also, either by multiplication or as a function).\n",
       "  * `A` and `B₁ᵀ` should return data of type `u`, and `B₂` and `C` should return data of type `f`.\n",
       "  * `A` must be invertible and be outfitted with operators ``and`ldiv!`.\n",
       "  * Both `u` and `f` must be subtypes of `AbstractArray`: they must be equipped with `size` and `vec` functions and with a constructor of the form `T(data)` where `T` is the data type of `u` or `f` and `data` is the wrapped data array.\n",
       "\n",
       "If called as `SaddleSystem(A,B₂,B₁ᵀ,u,f)`, the `C` block is omitted and assumed to be zero.\n",
       "\n",
       "If called with `SaddleSystem(A,u)`, this is equivalent to calling `SaddleSystem(A,nothing,nothing,u,[])`, then this reverts to the unconstrained system described by operator `A`.\n",
       "\n",
       "The list of vectors in any of these constructors can be replaced by a `SaddleVector`, e.g. `SaddleSystem(A,B₂,B₁ᵀ,SaddleVector(u,f))`.\n"
      ],
      "text/plain": [
       "\u001b[36m  SaddleSystem\u001b[39m\n",
       "\n",
       "  Construct a saddle-point system operator from the constituent operator\n",
       "  blocks. The resulting object can be used with \u001b[36m*\u001b[39m and \u001b[36m\\\u001b[39m to multiply and solve.\n",
       "  The saddle-point problem has the form\n",
       "\n",
       "  \u001b[35m\\begin{bmatrix}A & B_1^T \\\\ B_2 & C \\end{bmatrix} \\begin{pmatrix} u \\\\ f\n",
       "  \\end{pmatrix} = \\begin{pmatrix} r_1 \\\\ r_2 \\end{pmatrix}\u001b[39m\n",
       "\n",
       "\u001b[1m  Constructors\u001b[22m\n",
       "\u001b[1m  ––––––––––––––\u001b[22m\n",
       "\n",
       "  \u001b[36mSaddleSystem(A::AbstractMatrix,B₂::AbstractMatrix,B₁ᵀ::AbstractMatrix,C::AbstractMatrix[,eltype=Float64])\u001b[39m.\n",
       "  Blocks are given as matrices. Must have consistent sizes to stack\n",
       "  appropriately. If this is called with \u001b[36mSaddleSystem(A,B₂,B₁ᵀ)\u001b[39m, it sets \u001b[36mC\u001b[39m to\n",
       "  zero automatically.\n",
       "\n",
       "  \u001b[36mSaddleSystem(A,B₂,B₁ᵀ,C,u,f[,eltype=Float64])\u001b[39m. Operators \u001b[36mA\u001b[39m, \u001b[36mB₂\u001b[39m, \u001b[36mB₁ᵀ\u001b[39m, \u001b[36mC\u001b[39m are\n",
       "  given in various forms, including matrices, functions, and function-like\n",
       "  objects. \u001b[36mu\u001b[39m and \u001b[36mf\u001b[39m are examples of the data types in the corresponding\n",
       "  solution and right-hand side vectors. Guidelines:\n",
       "\n",
       "    •    The entries \u001b[36mA\u001b[39m and \u001b[36mB₂\u001b[39m must be able to act upon \u001b[36mu\u001b[39m (either by\n",
       "        multiplication or as a function) and \u001b[36mB₁ᵀ\u001b[39m and \u001b[36mC\u001b[39m must be able to act\n",
       "        on \u001b[36mf\u001b[39m (also, either by multiplication or as a function).\n",
       "\n",
       "    •    \u001b[36mA\u001b[39m and \u001b[36mB₁ᵀ\u001b[39m should return data of type \u001b[36mu\u001b[39m, and \u001b[36mB₂\u001b[39m and \u001b[36mC\u001b[39m should return\n",
       "        data of type \u001b[36mf\u001b[39m.\n",
       "\n",
       "    •    \u001b[36mA\u001b[39m must be invertible and be outfitted with operators `\u001b[36mand\u001b[39mldiv!`.\n",
       "\n",
       "    •    Both \u001b[36mu\u001b[39m and \u001b[36mf\u001b[39m must be subtypes of \u001b[36mAbstractArray\u001b[39m: they must be\n",
       "        equipped with \u001b[36msize\u001b[39m and \u001b[36mvec\u001b[39m functions and with a constructor of the\n",
       "        form \u001b[36mT(data)\u001b[39m where \u001b[36mT\u001b[39m is the data type of \u001b[36mu\u001b[39m or \u001b[36mf\u001b[39m and \u001b[36mdata\u001b[39m is the\n",
       "        wrapped data array.\n",
       "\n",
       "  If called as \u001b[36mSaddleSystem(A,B₂,B₁ᵀ,u,f)\u001b[39m, the \u001b[36mC\u001b[39m block is omitted and assumed\n",
       "  to be zero.\n",
       "\n",
       "  If called with \u001b[36mSaddleSystem(A,u)\u001b[39m, this is equivalent to calling\n",
       "  \u001b[36mSaddleSystem(A,nothing,nothing,u,[])\u001b[39m, then this reverts to the unconstrained\n",
       "  system described by operator \u001b[36mA\u001b[39m.\n",
       "\n",
       "  The list of vectors in any of these constructors can be replaced by a\n",
       "  \u001b[36mSaddleVector\u001b[39m, e.g. \u001b[36mSaddleSystem(A,B₂,B₁ᵀ,SaddleVector(u,f))\u001b[39m."
      ]
     },
     "execution_count": 84,
     "metadata": {},
     "output_type": "execute_result"
    }
   ],
   "source": [
    "?SaddleSystem"
   ]
  },
  {
   "cell_type": "markdown",
   "metadata": {},
   "source": [
    "### Working with matrices\n",
    "Let's see how `SaddleSystems` work with matrices. We will solve the system\n",
    "\n",
    "$$\n",
    "\\begin{bmatrix} 1 & 2 & 2 & -1 \\\\ 2 & 1 & 3 & -1 \\\\ 2 & 3 & 5 & -2\\\\ -1 & -1 & 3 & -4\\end{bmatrix} \\begin{pmatrix}s_1 \\\\ s_2 \\\\ s_3 \\\\ s_4 \\end{pmatrix} = \\begin{pmatrix} 1 \\\\ 2 \\\\ 3\\\\ 4\\end{pmatrix}\n",
    "$$"
   ]
  },
  {
   "cell_type": "code",
   "execution_count": 23,
   "metadata": {},
   "outputs": [],
   "source": [
    "A = [1.0 2.0; 2.0 1.0] \n",
    "B2 = [2.0 3.0;-1.0 -1.0]\n",
    "B1t = B2'\n",
    "C =  [5.0 -2.0; 3.0 -4.0]\n",
    "rhs1v = [1.0,2.0];\n",
    "rhs2v = [3.0,4.0];"
   ]
  },
  {
   "cell_type": "markdown",
   "metadata": {},
   "source": [
    "#### Let's first get the solution the usual way"
   ]
  },
  {
   "cell_type": "code",
   "execution_count": 12,
   "metadata": {},
   "outputs": [],
   "source": [
    "Amat = [A B1t; B2 C]\n",
    "rhsv = [rhs1v;rhs2v];"
   ]
  },
  {
   "cell_type": "code",
   "execution_count": 13,
   "metadata": {},
   "outputs": [
    {
     "name": "stdout",
     "output_type": "stream",
     "text": [
      "  1.418325 seconds (3.79 M allocations: 182.837 MiB, 18.15% gc time)\n"
     ]
    },
    {
     "data": {
      "text/plain": [
       "4-element Array{Float64,1}:\n",
       "  5.551115123125783e-17\n",
       " -0.3571428571428571   \n",
       "  0.6428571428571428   \n",
       " -0.4285714285714286   "
      ]
     },
     "execution_count": 13,
     "metadata": {},
     "output_type": "execute_result"
    }
   ],
   "source": [
    "@time solv = Amat\\rhsv"
   ]
  },
  {
   "cell_type": "markdown",
   "metadata": {},
   "source": [
    "#### Now let's solve as a SaddleSystem\n",
    "We will divide this into four 2x2 blocks"
   ]
  },
  {
   "cell_type": "code",
   "execution_count": 14,
   "metadata": {},
   "outputs": [
    {
     "data": {
      "text/plain": [
       "Saddle system with 2 states and 2 constraints and\n",
       "   State vector of type Array{Float64,1}\n",
       "   Constraint vector of type Array{Float64,1}\n",
       "   Elements of type Float64\n",
       "using a Direct solver\n"
      ]
     },
     "execution_count": 14,
     "metadata": {},
     "output_type": "execute_result"
    }
   ],
   "source": [
    "As = SaddleSystem(A,B2,B1t,C)"
   ]
  },
  {
   "cell_type": "markdown",
   "metadata": {},
   "source": [
    "We can solve this the same way, using `\\` on the $4x1$ vector `rhsv`"
   ]
  },
  {
   "cell_type": "code",
   "execution_count": 14,
   "metadata": {},
   "outputs": [
    {
     "name": "stdout",
     "output_type": "stream",
     "text": [
      "  0.000055 seconds (30 allocations: 1.375 KiB)\n"
     ]
    },
    {
     "data": {
      "text/plain": [
       "4-element Array{Float64,1}:\n",
       " -4.440892098500626e-16\n",
       " -0.35714285714285704  \n",
       "  0.6428571428571431   \n",
       " -0.42857142857142827  "
      ]
     },
     "execution_count": 14,
     "metadata": {},
     "output_type": "execute_result"
    }
   ],
   "source": [
    "@time As\\rhsv"
   ]
  },
  {
   "cell_type": "markdown",
   "metadata": {},
   "source": [
    "#### Iterative solver\n",
    "The default is to store the Schur complement matrix, factorize it, and solve the problem directly. We can also use an iterative solver, specified with the `solver = ` keyword argument. The choices are `Direct` (default), `CG`, `BiCGStabl`, `GMRES`, `MINRES`, and `IDRS`. The `CG` and `MINRES` methods should only be used for symmetric systems. These iterative solvers make use of the `IterativeSolvers` package, and their optional arguments can be included in the `SaddleSystem` call."
   ]
  },
  {
   "cell_type": "code",
   "execution_count": 15,
   "metadata": {},
   "outputs": [
    {
     "data": {
      "text/plain": [
       "Saddle system with 2 states and 2 constraints and\n",
       "   State vector of type Array{Float64,1}\n",
       "   Constraint vector of type Array{Float64,1}\n",
       "   Elements of type Float64\n",
       "using a BiCGStabl solver\n"
      ]
     },
     "execution_count": 15,
     "metadata": {},
     "output_type": "execute_result"
    }
   ],
   "source": [
    "As_iter = SaddleSystem(A,B2,B1t,C,solver=BiCGStabl)"
   ]
  },
  {
   "cell_type": "code",
   "execution_count": 17,
   "metadata": {},
   "outputs": [
    {
     "name": "stdout",
     "output_type": "stream",
     "text": [
      "  0.000085 seconds (108 allocations: 7.891 KiB)\n"
     ]
    },
    {
     "data": {
      "text/plain": [
       "4-element Array{Float64,1}:\n",
       "  1.2212453270876722e-15\n",
       " -0.3571428571428574    \n",
       "  0.6428571428571418    \n",
       " -0.4285714285714299    "
      ]
     },
     "execution_count": 17,
     "metadata": {},
     "output_type": "execute_result"
    }
   ],
   "source": [
    "@time As_iter\\rhsv"
   ]
  },
  {
   "cell_type": "markdown",
   "metadata": {},
   "source": [
    "#### More general form\n",
    "The previous form of constructor works only for matrices. A more general form requires that we tell it the form of the *state* and *constraint* parts of the solution and right-hand side vectors. We can use `SaddleVector` to assemble these together into a single vector:"
   ]
  },
  {
   "cell_type": "code",
   "execution_count": 18,
   "metadata": {},
   "outputs": [
    {
     "data": {
      "text/plain": [
       "([1.0, 2.0], [3.0, 4.0])"
      ]
     },
     "execution_count": 18,
     "metadata": {},
     "output_type": "execute_result"
    }
   ],
   "source": [
    "rhs = SaddleVector(rhs1v,rhs2v)"
   ]
  },
  {
   "cell_type": "markdown",
   "metadata": {},
   "source": [
    "The vector `rhs` is an `ArrayPartition` type:"
   ]
  },
  {
   "cell_type": "code",
   "execution_count": 19,
   "metadata": {},
   "outputs": [
    {
     "data": {
      "text/plain": [
       "RecursiveArrayTools.ArrayPartition{Float64,Tuple{Array{Float64,1},Array{Float64,1}}}"
      ]
     },
     "execution_count": 19,
     "metadata": {},
     "output_type": "execute_result"
    }
   ],
   "source": [
    "typeof(rhs)"
   ]
  },
  {
   "cell_type": "markdown",
   "metadata": {},
   "source": [
    "Here, we construct the system:"
   ]
  },
  {
   "cell_type": "code",
   "execution_count": 20,
   "metadata": {},
   "outputs": [
    {
     "name": "stdout",
     "output_type": "stream",
     "text": [
      "  0.778444 seconds (1.82 M allocations: 90.965 MiB, 4.20% gc time)\n"
     ]
    },
    {
     "data": {
      "text/plain": [
       "Saddle system with 2 states and 2 constraints and\n",
       "   State vector of type Array{Float64,1}\n",
       "   Constraint vector of type Array{Float64,1}\n",
       "   Elements of type Float64\n",
       "using a Direct solver\n"
      ]
     },
     "execution_count": 20,
     "metadata": {},
     "output_type": "execute_result"
    }
   ],
   "source": [
    "@time As = SaddleSystem(A,B2,B1t,C,rhs)"
   ]
  },
  {
   "cell_type": "markdown",
   "metadata": {},
   "source": [
    "and solve it in the usual way:"
   ]
  },
  {
   "cell_type": "code",
   "execution_count": 22,
   "metadata": {},
   "outputs": [
    {
     "name": "stdout",
     "output_type": "stream",
     "text": [
      "  0.000041 seconds (40 allocations: 2.250 KiB)\n"
     ]
    },
    {
     "data": {
      "text/plain": [
       "([0.0, -0.3571428571428572], [0.6428571428571428, -0.42857142857142877])"
      ]
     },
     "execution_count": 22,
     "metadata": {},
     "output_type": "execute_result"
    }
   ],
   "source": [
    "@time sol = As\\rhs"
   ]
  },
  {
   "cell_type": "markdown",
   "metadata": {},
   "source": [
    "The solution is of the same `ArrayPartition form`"
   ]
  },
  {
   "cell_type": "code",
   "execution_count": 23,
   "metadata": {},
   "outputs": [
    {
     "data": {
      "text/plain": [
       "RecursiveArrayTools.ArrayPartition{Float64,Tuple{Array{Float64,1},Array{Float64,1}}}"
      ]
     },
     "execution_count": 23,
     "metadata": {},
     "output_type": "execute_result"
    }
   ],
   "source": [
    "typeof(sol)"
   ]
  },
  {
   "cell_type": "markdown",
   "metadata": {},
   "source": [
    "We can get the *state* and *constraint* parts of any `SaddleVector` with convenience functions:"
   ]
  },
  {
   "cell_type": "code",
   "execution_count": 24,
   "metadata": {},
   "outputs": [
    {
     "data": {
      "text/plain": [
       "2-element Array{Float64,1}:\n",
       "  0.0               \n",
       " -0.3571428571428572"
      ]
     },
     "execution_count": 24,
     "metadata": {},
     "output_type": "execute_result"
    }
   ],
   "source": [
    "state(sol)"
   ]
  },
  {
   "cell_type": "code",
   "execution_count": 25,
   "metadata": {},
   "outputs": [
    {
     "data": {
      "text/plain": [
       "2-element Array{Float64,1}:\n",
       "  0.6428571428571428 \n",
       " -0.42857142857142877"
      ]
     },
     "execution_count": 25,
     "metadata": {},
     "output_type": "execute_result"
    }
   ],
   "source": [
    "constraint(sol)"
   ]
  },
  {
   "cell_type": "markdown",
   "metadata": {},
   "source": [
    "We can also multiply:"
   ]
  },
  {
   "cell_type": "code",
   "execution_count": 26,
   "metadata": {},
   "outputs": [
    {
     "data": {
      "text/plain": [
       "([1.0, 2.0], [2.9999999999999996, 4.0])"
      ]
     },
     "execution_count": 26,
     "metadata": {},
     "output_type": "execute_result"
    }
   ],
   "source": [
    "As*sol"
   ]
  },
  {
   "cell_type": "markdown",
   "metadata": {},
   "source": [
    "### Unconstrained solution\n",
    "Of course, we can use this with *unconstrained* systems without problem. For example, let's consider our example as the full matrix. We pass in an empty vector for the constraints:"
   ]
  },
  {
   "cell_type": "code",
   "execution_count": 28,
   "metadata": {},
   "outputs": [
    {
     "data": {
      "text/plain": [
       "Saddle system with 4 states and 0 constraints and\n",
       "   State vector of type Array{Float64,1}\n",
       "   Constraint vector of type Array{Type{Float64},1}\n",
       "   Elements of type Float64\n",
       "using a Direct solver\n"
      ]
     },
     "execution_count": 28,
     "metadata": {},
     "output_type": "execute_result"
    }
   ],
   "source": [
    "nada = empty(rhsv);\n",
    "rhsnc = SaddleVector(rhsv,nada)\n",
    "Anc = SaddleSystem(Amat,rhsnc)"
   ]
  },
  {
   "cell_type": "code",
   "execution_count": 29,
   "metadata": {},
   "outputs": [
    {
     "data": {
      "text/plain": [
       "([5.551115123125783e-17, -0.3571428571428571, 0.6428571428571428, -0.4285714285714286], Float64[])"
      ]
     },
     "execution_count": 29,
     "metadata": {},
     "output_type": "execute_result"
    }
   ],
   "source": [
    "solnc = Anc\\rhsnc"
   ]
  },
  {
   "cell_type": "code",
   "execution_count": 30,
   "metadata": {},
   "outputs": [
    {
     "data": {
      "text/plain": [
       "4-element Array{Float64,1}:\n",
       "  5.551115123125783e-17\n",
       " -0.3571428571428571   \n",
       "  0.6428571428571428   \n",
       " -0.4285714285714286   "
      ]
     },
     "execution_count": 30,
     "metadata": {},
     "output_type": "execute_result"
    }
   ],
   "source": [
    "state(solnc)"
   ]
  },
  {
   "cell_type": "code",
   "execution_count": 31,
   "metadata": {},
   "outputs": [
    {
     "data": {
      "text/plain": [
       "0-element Array{Float64,1}"
      ]
     },
     "execution_count": 31,
     "metadata": {},
     "output_type": "execute_result"
    }
   ],
   "source": [
    "constraint(solnc)"
   ]
  },
  {
   "cell_type": "markdown",
   "metadata": {},
   "source": [
    "And if we multiply, we get back what we expect:"
   ]
  },
  {
   "cell_type": "code",
   "execution_count": 32,
   "metadata": {},
   "outputs": [
    {
     "data": {
      "text/plain": [
       "([1.0, 2.0, 3.0, 4.0], Float64[])"
      ]
     },
     "execution_count": 32,
     "metadata": {},
     "output_type": "execute_result"
    }
   ],
   "source": [
    "Anc*solnc"
   ]
  },
  {
   "cell_type": "markdown",
   "metadata": {},
   "source": [
    "### More interesting operators\n",
    "Let's try this on `ViscousFlow` field operators. We will construct a square grid of points and immerse a bunch of points in it. Our goal is to solve\n",
    "\n",
    "$$\n",
    "\\begin{bmatrix} L & R \\\\ E & 0 \\end{bmatrix} \\begin{pmatrix} \\psi \\\\ f \\end{pmatrix} =  \\begin{pmatrix} -w \\\\ \\psi_b \\end{pmatrix}\n",
    "$$\n",
    "\n",
    "where $\\psi$ is the discrete streamfunction, $w$ the discrete vorticity, and $\\psi_b$ a prescribed distribution of streamfunction on the body surface."
   ]
  },
  {
   "cell_type": "code",
   "execution_count": 33,
   "metadata": {},
   "outputs": [],
   "source": [
    "nx = 130; ny = 130;\n",
    "Lx = 2.0;\n",
    "dx = Lx/(nx-2);\n",
    "w = Nodes(Dual,(nx,ny));\n",
    "u = similar(w);"
   ]
  },
  {
   "cell_type": "markdown",
   "metadata": {},
   "source": [
    "Set up a Laplace operator on this grid, and make sure it has an inverse:"
   ]
  },
  {
   "cell_type": "code",
   "execution_count": 34,
   "metadata": {},
   "outputs": [
    {
     "data": {
      "text/plain": [
       "Discrete Laplacian (and inverse) on a (nx = 130, ny = 130) grid acting on Float64 data with spacing 1.0"
      ]
     },
     "execution_count": 34,
     "metadata": {},
     "output_type": "execute_result"
    }
   ],
   "source": [
    "L = plan_laplacian(size(w),with_inverse=true)"
   ]
  },
  {
   "cell_type": "markdown",
   "metadata": {},
   "source": [
    "Set up points along a circle"
   ]
  },
  {
   "cell_type": "code",
   "execution_count": 35,
   "metadata": {},
   "outputs": [],
   "source": [
    "n = 128;\n",
    "θ = range(0,stop=2π,length=n+1);\n",
    "R = 0.5;\n",
    "xb = 1.0 .+ R*cos.(θ[1:n])\n",
    "yb = 1.0 .+ R*sin.(θ[1:n])\n",
    "ds = (2π/n)*R;\n",
    "X = VectorData(xb,yb);\n",
    "ψb = ScalarData(X);"
   ]
  },
  {
   "cell_type": "markdown",
   "metadata": {},
   "source": [
    "Create the regularization and interpolation operators:"
   ]
  },
  {
   "cell_type": "code",
   "execution_count": 36,
   "metadata": {},
   "outputs": [],
   "source": [
    "E = Regularize(X,dx;issymmetric=true)\n",
    "Rmat,Emat = RegularizationMatrix(E,ψb,w);"
   ]
  },
  {
   "cell_type": "markdown",
   "metadata": {},
   "source": [
    "Now we set up the system"
   ]
  },
  {
   "cell_type": "code",
   "execution_count": 38,
   "metadata": {},
   "outputs": [
    {
     "name": "stdout",
     "output_type": "stream",
     "text": [
      "  0.235366 seconds (5.01 k allocations: 100.400 MiB, 12.39% gc time)\n"
     ]
    },
    {
     "data": {
      "text/plain": [
       "Saddle system with 16900 states and 128 constraints and\n",
       "   State vector of type Nodes{Dual,130,130,Float64,Array{Float64,2}}\n",
       "   Constraint vector of type ScalarData{128,Float64,Array{Float64,1}}\n",
       "   Elements of type Float64\n",
       "using a Direct solver\n"
      ]
     },
     "execution_count": 38,
     "metadata": {},
     "output_type": "execute_result"
    }
   ],
   "source": [
    "u = SaddleVector(w,ψb);\n",
    "@time A = SaddleSystem(L,Emat,Rmat,u) #,solver=BiCGStabl,tol=1e-3)"
   ]
  },
  {
   "cell_type": "markdown",
   "metadata": {},
   "source": [
    "and the right-hand side vector"
   ]
  },
  {
   "cell_type": "code",
   "execution_count": 39,
   "metadata": {},
   "outputs": [
    {
     "data": {
      "text/plain": [
       "(Dual nodes in a (nx = 130, ny = 130) cell grid of type Float64 data\n",
       "  Number of Dual nodes: (nx = 130, ny = 130), [-0.5, -0.4993977281025863, -0.4975923633360986, -0.49458825498239056, -0.4903926402016152, -0.48501562659727204, -0.4784701678661043, -0.47077203259151035, -0.4619397662556435, -0.4519946465617217  …  -0.44096063217417747, -0.4519946465617215, -0.46193976625564326, -0.47077203259151035, -0.4784701678661043, -0.48501562659727204, -0.4903926402016152, -0.49458825498239056, -0.4975923633360986, -0.4993977281025863])"
      ]
     },
     "execution_count": 39,
     "metadata": {},
     "output_type": "execute_result"
    }
   ],
   "source": [
    "ψb .= -(xb .- 1);\n",
    "rhs = SaddleVector(w,ψb)"
   ]
  },
  {
   "cell_type": "markdown",
   "metadata": {},
   "source": [
    "and solve it..."
   ]
  },
  {
   "cell_type": "code",
   "execution_count": 41,
   "metadata": {},
   "outputs": [
    {
     "name": "stdout",
     "output_type": "stream",
     "text": [
      "  0.002445 seconds (70 allocations: 1.296 MiB)\n"
     ]
    }
   ],
   "source": [
    "@time sol = A\\rhs;"
   ]
  },
  {
   "cell_type": "code",
   "execution_count": 43,
   "metadata": {},
   "outputs": [
    {
     "data": {
      "image/png": "[encoded data removed]"
     },
     "execution_count": 43,
     "metadata": {},
     "output_type": "execute_result"
    }
   ],
   "source": [
    "xg,yg = coordinates(w,dx=dx)\n",
    "plot(xg,yg,state(sol))\n",
    "plot!(xb,yb,xlim=(-Inf,Inf),ylim=(-Inf,Inf),fillcolor=:black,fillrange=0,fillalpha=0.25,linecolor=:black)"
   ]
  },
  {
   "cell_type": "markdown",
   "metadata": {},
   "source": [
    "Plot the constraint vector and compare it with the exact solution (for the continuous problem):"
   ]
  },
  {
   "cell_type": "code",
   "execution_count": 44,
   "metadata": {},
   "outputs": [],
   "source": [
    "fex = -2*cos.(θ[1:n])*ds;"
   ]
  },
  {
   "cell_type": "code",
   "execution_count": 45,
   "metadata": {},
   "outputs": [
    {
     "data": {
      "image/png": "[encoded data removed]"
     },
     "execution_count": 45,
     "metadata": {},
     "output_type": "execute_result"
    }
   ],
   "source": [
    "plot(θ[1:n],constraint(sol),label=\"Numerical\",xlabel=\"θ\",ylabel=\"f(θ)\",xlim=(-Inf,Inf))\n",
    "plot!(θ[1:n],fex,label=\"Analytical\")"
   ]
  },
  {
   "cell_type": "markdown",
   "metadata": {},
   "source": [
    "The L2 norm of the difference"
   ]
  },
  {
   "cell_type": "code",
   "execution_count": 46,
   "metadata": {},
   "outputs": [
    {
     "data": {
      "text/plain": [
       "0.010176487612409175"
      ]
     },
     "execution_count": 46,
     "metadata": {},
     "output_type": "execute_result"
    }
   ],
   "source": [
    "norm(constraint(sol)-fex)"
   ]
  },
  {
   "cell_type": "markdown",
   "metadata": {},
   "source": [
    "### Unconstrained case with Edges data"
   ]
  },
  {
   "cell_type": "code",
   "execution_count": 47,
   "metadata": {},
   "outputs": [],
   "source": [
    "rhsq = Edges(Primal,w);\n",
    "rhsq.u .= 3;"
   ]
  },
  {
   "cell_type": "code",
   "execution_count": 48,
   "metadata": {},
   "outputs": [],
   "source": [
    "Aq = SaddleSystem(I,SaddleVector(rhsq,nada));"
   ]
  },
  {
   "cell_type": "code",
   "execution_count": 52,
   "metadata": {},
   "outputs": [
    {
     "name": "stdout",
     "output_type": "stream",
     "text": [
      "  0.000849 seconds (260 allocations: 1.548 MiB)\n"
     ]
    },
    {
     "data": {
      "text/plain": [
       "(Primal edges for a (nx = 130, ny = 130) cell grid of type Float64 data\n",
       "  Internal u-faces: (nx = 130, ny = 129)\n",
       "  Internal v-faces: (nx = 129, ny = 130), Float64[])"
      ]
     },
     "execution_count": 52,
     "metadata": {},
     "output_type": "execute_result"
    }
   ],
   "source": [
    "@time sol = Aq\\SaddleVector(rhsq,nada)"
   ]
  },
  {
   "cell_type": "code",
   "execution_count": 53,
   "metadata": {},
   "outputs": [],
   "source": [
    "q = state(sol);"
   ]
  },
  {
   "cell_type": "code",
   "execution_count": 54,
   "metadata": {},
   "outputs": [
    {
     "data": {
      "text/plain": [
       "true"
      ]
     },
     "execution_count": 54,
     "metadata": {},
     "output_type": "execute_result"
    }
   ],
   "source": [
    "all(q.u .== 3.0) && all(q.v .== 0.0)"
   ]
  },
  {
   "cell_type": "markdown",
   "metadata": {},
   "source": [
    "### Filtering\n",
    "Sometimes we might wish to apply a linear filter to the solution for the constraint forces. We can define such a filter in the same way that we define the other operators. It is passed in via the `filter=` keyword argument. This argument defaults to the identity.\n",
    "\n",
    "Let's try this on our earlier example, using the filtering operation associated with Regularization/Interpolation with re-scaling:"
   ]
  },
  {
   "cell_type": "code",
   "execution_count": 56,
   "metadata": {},
   "outputs": [],
   "source": [
    "Ẽ = Regularize(X,dx;weights=ds,filter=true)\n",
    "H̃mat = RegularizationMatrix(Ẽ,ψb,w);\n",
    "Ẽmat = InterpolationMatrix(Ẽ,w,ψb);"
   ]
  },
  {
   "cell_type": "markdown",
   "metadata": {},
   "source": [
    "We define our filtering operator as a product of these two operators:"
   ]
  },
  {
   "cell_type": "code",
   "execution_count": 68,
   "metadata": {},
   "outputs": [],
   "source": [
    "Pmat = Ẽmat*H̃mat;"
   ]
  },
  {
   "cell_type": "code",
   "execution_count": 79,
   "metadata": {},
   "outputs": [
    {
     "data": {
      "text/plain": [
       "Saddle system with 16900 states and 128 constraints and\n",
       "   State vector of type Nodes{Dual,130,130,Float64,Array{Float64,2}}\n",
       "   Constraint vector of type ScalarData{128,Float64,Array{Float64,1}}\n",
       "   Elements of type Float64\n",
       "using a Direct solver\n"
      ]
     },
     "execution_count": 79,
     "metadata": {},
     "output_type": "execute_result"
    }
   ],
   "source": [
    "u = SaddleVector(w,ψb);\n",
    "Afilt = SaddleSystem(L,Emat,Rmat,u,filter=Pmat)"
   ]
  },
  {
   "cell_type": "code",
   "execution_count": 80,
   "metadata": {},
   "outputs": [],
   "source": [
    "ψb .= -(xb .- 1);\n",
    "rhs = SaddleVector(w,ψb);"
   ]
  },
  {
   "cell_type": "code",
   "execution_count": 81,
   "metadata": {},
   "outputs": [],
   "source": [
    "sol = Afilt\\rhs;"
   ]
  },
  {
   "cell_type": "code",
   "execution_count": 82,
   "metadata": {},
   "outputs": [
    {
     "data": {
      "image/png": "[encoded data removed]"
     },
     "execution_count": 82,
     "metadata": {},
     "output_type": "execute_result"
    }
   ],
   "source": [
    "plot(θ[1:n],constraint(sol),label=\"Numerical\",xlabel=\"θ\",ylabel=\"f(θ)\",xlim=(-Inf,Inf))\n",
    "plot!(θ[1:n],fex,label=\"Analytical\")"
   ]
  },
  {
   "cell_type": "markdown",
   "metadata": {},
   "source": [
    "Notice that the solution is less noisy than without it, and the comparison with the exact result is more favorable:"
   ]
  },
  {
   "cell_type": "code",
   "execution_count": 83,
   "metadata": {},
   "outputs": [
    {
     "data": {
      "text/plain": [
       "0.008383851513019288"
      ]
     },
     "execution_count": 83,
     "metadata": {},
     "output_type": "execute_result"
    }
   ],
   "source": [
    "norm(constraint(sol)-fex)"
   ]
  },
  {
   "cell_type": "markdown",
   "metadata": {},
   "source": [
    "### Another interesting example\n",
    "This time, we will solve a similar problem, but this time setting a surface velocity (requiring `VectorData`) and determining the vorticity (the state vector):\n",
    "\n",
    "\n",
    "$$\n",
    "\\begin{bmatrix} I & C^{T}R \\\\ -ECL^{-1} & 0 \\end{bmatrix} \\begin{pmatrix} w \\\\ f \\end{pmatrix} =  \\begin{pmatrix} 0 \\\\ u_b \\end{pmatrix}\n",
    "$$\n",
    "\n",
    "where $I$ is the identity and $u_b$ is the surface velocity."
   ]
  },
  {
   "cell_type": "code",
   "execution_count": 51,
   "metadata": {},
   "outputs": [],
   "source": [
    "# surface velocity\n",
    "ub = VectorData(X);\n",
    "\n",
    "# a grid velocity field\n",
    "q = Edges(Primal,w);\n",
    "\n",
    "# and regularization and interpolation operators\n",
    "Rvmat,Evmat = RegularizationMatrix(E,ub,q);"
   ]
  },
  {
   "cell_type": "markdown",
   "metadata": {},
   "source": [
    "Now, define the state-constraint operators as functions"
   ]
  },
  {
   "cell_type": "code",
   "execution_count": 52,
   "metadata": {},
   "outputs": [],
   "source": [
    "B₁ᵀ(f) = Curl()*(Rvmat*f);"
   ]
  },
  {
   "cell_type": "code",
   "execution_count": 53,
   "metadata": {},
   "outputs": [
    {
     "data": {
      "text/plain": [
       "B₂ (generic function with 1 method)"
      ]
     },
     "execution_count": 53,
     "metadata": {},
     "output_type": "execute_result"
    }
   ],
   "source": [
    "B₂(w) = -(Evmat*(Curl()*(L\\w)))"
   ]
  },
  {
   "cell_type": "code",
   "execution_count": 54,
   "metadata": {},
   "outputs": [
    {
     "data": {
      "text/plain": [
       "Saddle system with 16900 states and 256 constraints and\n",
       "   State vector of type Nodes{Dual,130,130,Float64}\n",
       "   Constraint vector of type VectorData{128,Float64,Array{Float64,1}}\n",
       "   Elements of type Float64\n",
       "using a Direct solver\n"
      ]
     },
     "execution_count": 54,
     "metadata": {},
     "output_type": "execute_result"
    }
   ],
   "source": [
    "rhs = SaddleVector(w,ub)\n",
    "A = SaddleSystem(I,B₂,B₁ᵀ,rhs)"
   ]
  },
  {
   "cell_type": "code",
   "execution_count": 55,
   "metadata": {},
   "outputs": [],
   "source": [
    "ub.u .= 0.0 #-sin.(4θ[1:n]);\n",
    "ub.v .= 1.0 # cos.(4θ[1:n]);\n",
    "#rhs = SaddleVector(w,ub); "
   ]
  },
  {
   "cell_type": "markdown",
   "metadata": {},
   "source": [
    "Note that the assignements to `ub` automatically update the `rhs` vector:"
   ]
  },
  {
   "cell_type": "code",
   "execution_count": 58,
   "metadata": {},
   "outputs": [
    {
     "data": {
      "text/plain": [
       "128 points of vector-valued Float64 data\n",
       "256-element Array{Float64,1}:\n",
       " 0.0\n",
       " 0.0\n",
       " 0.0\n",
       " 0.0\n",
       " 0.0\n",
       " 0.0\n",
       " 0.0\n",
       " 0.0\n",
       " 0.0\n",
       " 0.0\n",
       " 0.0\n",
       " 0.0\n",
       " 0.0\n",
       " ⋮  \n",
       " 1.0\n",
       " 1.0\n",
       " 1.0\n",
       " 1.0\n",
       " 1.0\n",
       " 1.0\n",
       " 1.0\n",
       " 1.0\n",
       " 1.0\n",
       " 1.0\n",
       " 1.0\n",
       " 1.0"
      ]
     },
     "execution_count": 58,
     "metadata": {},
     "output_type": "execute_result"
    }
   ],
   "source": [
    "constraint(rhs)"
   ]
  },
  {
   "cell_type": "code",
   "execution_count": 48,
   "metadata": {},
   "outputs": [],
   "source": [
    "sol = A\\rhs;"
   ]
  },
  {
   "cell_type": "markdown",
   "metadata": {},
   "source": [
    "Plot the streamlines:"
   ]
  },
  {
   "cell_type": "code",
   "execution_count": 75,
   "metadata": {},
   "outputs": [],
   "source": [
    "ψ = -(L\\state(sol));"
   ]
  },
  {
   "cell_type": "code",
   "execution_count": 76,
   "metadata": {},
   "outputs": [
    {
     "data": {
      "image/png": "[encoded data removed]"
     },
     "execution_count": 76,
     "metadata": {},
     "output_type": "execute_result"
    }
   ],
   "source": [
    "xg,yg = coordinates(ψ,dx=dx)\n",
    "plot(xg,yg,ψ)\n",
    "plot!(xb,yb,fillcolor=:black,fillrange=0,fillalpha=0.25,linecolor=:black)"
   ]
  },
  {
   "cell_type": "markdown",
   "metadata": {},
   "source": [
    "#### Now, we will solve the same problem, but with diffusion, handled by an integrating factor\n",
    "\n",
    "$$\n",
    "\\begin{bmatrix} H(-\\Delta t) & C^{T}R \\\\ -ECL^{-1} & 0 \\end{bmatrix} \\begin{pmatrix} w \\\\ f \\end{pmatrix} =  \\begin{pmatrix} 0 \\\\ u_b \\end{pmatrix}\n",
    "$$\n",
    "\n",
    "where $H(t)$ is the linear diffusion operator."
   ]
  },
  {
   "cell_type": "code",
   "execution_count": 49,
   "metadata": {},
   "outputs": [],
   "source": [
    "Δt = 2.0\n",
    "Hdt = plan_intfact(Δt,w);"
   ]
  },
  {
   "cell_type": "markdown",
   "metadata": {},
   "source": [
    "For this integrating factor, we will set up some basic operations. Since the integrating factor `Hdt` corresponds to $H(\\Delta t)$, but $A$ in our saddle system is $H(-\\Delta t)$, then the action of `Hdt` on grid data actually corresponds to the *backslash* operation of $A$ on that data. We won't use the multiplication operation of $A$ in our example, so we will just set it to the identity."
   ]
  },
  {
   "cell_type": "code",
   "execution_count": 50,
   "metadata": {},
   "outputs": [],
   "source": [
    "struct IFOperator\n",
    "    op :: ViscousFlow.Fields.IntFact\n",
    "end"
   ]
  },
  {
   "cell_type": "code",
   "execution_count": 51,
   "metadata": {},
   "outputs": [],
   "source": [
    "import Base: \\, *\n",
    "\\(A::IFOperator,w::Nodes) = A.op*w;\n",
    "*(A::IFOperator,w::Nodes) = w; # identity, technically incorrect but never used in our example"
   ]
  },
  {
   "cell_type": "markdown",
   "metadata": {},
   "source": [
    "Form the saddle-point system:"
   ]
  },
  {
   "cell_type": "code",
   "execution_count": 52,
   "metadata": {},
   "outputs": [
    {
     "data": {
      "text/plain": [
       "Saddle system with 16900 states and 256 constraints and\n",
       "   State vector of type Nodes{Dual,130,130,Float64}\n",
       "   Constraint vector of type VectorData{128,Float64,Array{Float64,1}}\n",
       "   Elements of type Float64\n"
      ]
     },
     "execution_count": 52,
     "metadata": {},
     "output_type": "execute_result"
    }
   ],
   "source": [
    "A = SaddleSystem(IFOperator(Hdt),B₂,B₁ᵀ,rhs)"
   ]
  },
  {
   "cell_type": "markdown",
   "metadata": {},
   "source": [
    "Solve it for surface velocity associated with a deforming surface."
   ]
  },
  {
   "cell_type": "code",
   "execution_count": 53,
   "metadata": {},
   "outputs": [],
   "source": [
    "ub.u .= cos.(4θ[1:n]);\n",
    "ub.v .= -sin.(4θ[1:n]);\n",
    "rhs = SaddleVector(w,ub);"
   ]
  },
  {
   "cell_type": "code",
   "execution_count": 54,
   "metadata": {},
   "outputs": [
    {
     "data": {
      "text/plain": [
       "(Dual nodes in a (nx = 130, ny = 130) cell grid of type Float64 data\n",
       "  Number of Dual nodes: (nx = 130, ny = 130), [-26.207902970488334, -26.366906895221167, -23.696775376862245, -20.90449178873363, -16.45204166194476, -11.759499070574536, -5.685588252333794, -0.9276903205261744, 5.629450990956176, 9.812133566786027  …  -15.82929049444122, -18.219691233698672, -12.413843567956896, -16.1015330650991, -9.300856344391049, -10.624168563601506, -7.667628179924083, -4.923654850949798, -4.355812966014731, -1.5071488916849252])"
      ]
     },
     "execution_count": 54,
     "metadata": {},
     "output_type": "execute_result"
    }
   ],
   "source": [
    "sol = A\\rhs"
   ]
  },
  {
   "cell_type": "markdown",
   "metadata": {},
   "source": [
    "Let's inspect the vorticity in this case:"
   ]
  },
  {
   "cell_type": "code",
   "execution_count": 360,
   "metadata": {},
   "outputs": [
    {
     "data": {
      "image/png": "[encoded data removed]"
     },
     "execution_count": 360,
     "metadata": {},
     "output_type": "execute_result"
    }
   ],
   "source": [
    "w = state(sol);\n",
    "xg,yg = coordinates(w,dx=dx)\n",
    "plot(xg,yg,w)\n",
    "plot!(xb,yb,fillcolor=:black,fillrange=0,linecolor=:black)"
   ]
  },
  {
   "cell_type": "markdown",
   "metadata": {},
   "source": [
    "### Set of saddle point systems\n",
    "We can solve a **set** of saddle point systems. The ones we set up here are completely decoupled. We group the individual saddle point systems into a tuple:"
   ]
  },
  {
   "cell_type": "code",
   "execution_count": 55,
   "metadata": {},
   "outputs": [
    {
     "data": {
      "text/plain": [
       "(Saddle system with 16900 states and 256 constraints and\n",
       "   State vector of type Nodes{Dual,130,130,Float64}\n",
       "   Constraint vector of type VectorData{128,Float64,Array{Float64,1}}\n",
       "   Elements of type Float64\n",
       ", Saddle system with 4 states and 0 constraints and\n",
       "   State vector of type Array{Float64,1}\n",
       "   Constraint vector of type Array{Type{Float64},1}\n",
       "   Elements of type Float64\n",
       ")"
      ]
     },
     "execution_count": 55,
     "metadata": {},
     "output_type": "execute_result"
    }
   ],
   "source": [
    "sys = (A,Anc)"
   ]
  },
  {
   "cell_type": "markdown",
   "metadata": {},
   "source": [
    "We provide a tuple of right-hand side vectors (each of type `SaddleVector`), and get a tuple of solutions:"
   ]
  },
  {
   "cell_type": "code",
   "execution_count": 56,
   "metadata": {},
   "outputs": [],
   "source": [
    "sol1, sol2 = sys\\(rhs,rhsnc);"
   ]
  },
  {
   "cell_type": "code",
   "execution_count": 57,
   "metadata": {},
   "outputs": [
    {
     "data": {
      "text/plain": [
       "(Dual nodes in a (nx = 130, ny = 130) cell grid of type Float64 data\n",
       "  Number of Dual nodes: (nx = 130, ny = 130), [-26.207902970488334, -26.366906895221167, -23.696775376862245, -20.90449178873363, -16.45204166194476, -11.759499070574536, -5.685588252333794, -0.9276903205261744, 5.629450990956176, 9.812133566786027  …  -15.82929049444122, -18.219691233698672, -12.413843567956896, -16.1015330650991, -9.300856344391049, -10.624168563601506, -7.667628179924083, -4.923654850949798, -4.355812966014731, -1.5071488916849252])"
      ]
     },
     "execution_count": 57,
     "metadata": {},
     "output_type": "execute_result"
    }
   ],
   "source": [
    "sol1"
   ]
  },
  {
   "cell_type": "code",
   "execution_count": 58,
   "metadata": {},
   "outputs": [
    {
     "data": {
      "text/plain": [
       "([5.551115123125783e-17, -0.3571428571428571, 0.6428571428571428, -0.4285714285714286], Float64[])"
      ]
     },
     "execution_count": 58,
     "metadata": {},
     "output_type": "execute_result"
    }
   ],
   "source": [
    "sol2"
   ]
  },
  {
   "cell_type": "markdown",
   "metadata": {},
   "source": [
    "We can check that these are the same as the problems solved individually (since they are uncoupled in this example):"
   ]
  },
  {
   "cell_type": "code",
   "execution_count": 59,
   "metadata": {},
   "outputs": [
    {
     "data": {
      "text/plain": [
       "true"
      ]
     },
     "execution_count": 59,
     "metadata": {},
     "output_type": "execute_result"
    }
   ],
   "source": [
    "sol1 == sol"
   ]
  },
  {
   "cell_type": "code",
   "execution_count": 60,
   "metadata": {},
   "outputs": [
    {
     "data": {
      "text/plain": [
       "(Dual nodes in a (nx = 130, ny = 130) cell grid of type Float64 data\n",
       "  Number of Dual nodes: (nx = 130, ny = 130)[1.0000000000000004, 0.9807852804032319, 0.9238795325112866, 0.8314696123025455, 0.707106781186549, 0.5555702330196018, 0.38268343236508895, 0.19509032201612733, 6.276346320751691e-16, -0.19509032201612836  …  0.9238795325112861, 0.9807852804032305, 0.9999999999999997, 0.9807852804032308, 0.9238795325112871, 0.8314696123025463, 0.7071067811865478, 0.5555702330196045, 0.38268343236508995, 0.19509032201612894], [1.0, 2.0, 3.0, 4.0]Float64[])"
      ]
     },
     "execution_count": 60,
     "metadata": {},
     "output_type": "execute_result"
    }
   ],
   "source": [
    "sys*(sol1,sol2)"
   ]
  },
  {
   "cell_type": "markdown",
   "metadata": {},
   "source": [
    "### Define minimal wrapper type\n",
    "Here, we demonstrate the needs of a data wrapper for `SaddleSystem`"
   ]
  },
  {
   "cell_type": "code",
   "execution_count": 61,
   "metadata": {},
   "outputs": [
    {
     "data": {
      "text/plain": [
       "MyWrapper"
      ]
     },
     "execution_count": 61,
     "metadata": {},
     "output_type": "execute_result"
    }
   ],
   "source": [
    "# Basic structure of the wrapper\n",
    "struct MyWrapper{T,DT} <: AbstractVector{T}\n",
    "    data :: DT\n",
    "end\n",
    "\n",
    "# Basic constructor\n",
    "MyWrapper(data::AbstractVector{T}) where {T} = MyWrapper{eltype(data),typeof(data)}(data)"
   ]
  },
  {
   "cell_type": "code",
   "execution_count": 62,
   "metadata": {},
   "outputs": [],
   "source": [
    "# set up basic array stuff\n",
    "Base.size(A::MyWrapper) = size(A.data)\n",
    "Base.size(A::MyWrapper,d::Int) = size(A.data,d)\n",
    "Base.@propagate_inbounds Base.getindex(A::MyWrapper,i::Int) = getindex(A.data,i)\n",
    "Base.@propagate_inbounds Base.setindex!(A::MyWrapper, v, i::Int) = setindex!(A.data,v,i)\n",
    "Base.similar(A::MyWrapper) = MyWrapper(similar(A.data))\n",
    "Base.zero(A::MyWrapper{T,DT}) where {T,DT} = MyWrapper(zero(A.data))"
   ]
  },
  {
   "cell_type": "code",
   "execution_count": 63,
   "metadata": {},
   "outputs": [
    {
     "data": {
      "text/plain": [
       "\\ (generic function with 193 methods)"
      ]
     },
     "execution_count": 63,
     "metadata": {},
     "output_type": "execute_result"
    }
   ],
   "source": [
    "# set up basic arithmetic so that matrix operators work on them properly\n",
    "using LinearAlgebra\n",
    "import LinearAlgebra: mul!,*,\\\n",
    "mul!(y::MyWrapper,A::Matrix,x::MyWrapper) = (mul!(y.data,A,x.data); return y)\n",
    "(*)(A::Matrix,x::MyWrapper) = (y = similar(x); mul!(y,A,x); return y)\n",
    "(\\)(A::Matrix,x::MyWrapper) = (y = similar(x); y.data .= A\\x.data; return y)"
   ]
  },
  {
   "cell_type": "code",
   "execution_count": 64,
   "metadata": {},
   "outputs": [
    {
     "data": {
      "text/plain": [
       "5-element MyWrapper{Float64,StepRangeLen{Float64,Base.TwicePrecision{Float64},Base.TwicePrecision{Float64}}}:\n",
       " 1.0\n",
       " 2.0\n",
       " 3.0\n",
       " 4.0\n",
       " 5.0"
      ]
     },
     "execution_count": 64,
     "metadata": {},
     "output_type": "execute_result"
    }
   ],
   "source": [
    "f = MyWrapper(1.0:5.0)"
   ]
  },
  {
   "cell_type": "markdown",
   "metadata": {},
   "source": [
    "Return to the old matrix system"
   ]
  },
  {
   "cell_type": "code",
   "execution_count": 65,
   "metadata": {},
   "outputs": [],
   "source": [
    "A = [1.0 2.0; 2.0 1.0] \n",
    "B2 = [2.0 3.0;-1.0 -1.0]\n",
    "B1t = B2'\n",
    "C =  [5.0 -2.0; 3.0 -4.0]\n",
    "rhs1v = [1.0,2.0];\n",
    "rhs2v = [3.0,4.0];"
   ]
  },
  {
   "cell_type": "code",
   "execution_count": 66,
   "metadata": {},
   "outputs": [
    {
     "data": {
      "text/plain": [
       "([1.0, 2.0], [3.0, 4.0])"
      ]
     },
     "execution_count": 66,
     "metadata": {},
     "output_type": "execute_result"
    }
   ],
   "source": [
    "rhs1 = MyWrapper(rhs1v)\n",
    "rhs2 = MyWrapper(rhs2v);\n",
    "rhs = SaddleVector(rhs1,rhs2)"
   ]
  },
  {
   "cell_type": "code",
   "execution_count": 67,
   "metadata": {},
   "outputs": [
    {
     "name": "stdout",
     "output_type": "stream",
     "text": [
      "  0.576206 seconds (1.42 M allocations: 68.315 MiB, 5.37% gc time)\n"
     ]
    },
    {
     "data": {
      "text/plain": [
       "Saddle system with 2 states and 2 constraints and\n",
       "   State vector of type MyWrapper{Float64,Array{Float64,1}}\n",
       "   Constraint vector of type MyWrapper{Float64,Array{Float64,1}}\n",
       "   Elements of type Float64\n"
      ]
     },
     "execution_count": 67,
     "metadata": {},
     "output_type": "execute_result"
    }
   ],
   "source": [
    "@time As = SaddleSystem(A,B2,B1t,C,rhs)"
   ]
  },
  {
   "cell_type": "code",
   "execution_count": 68,
   "metadata": {},
   "outputs": [
    {
     "name": "stdout",
     "output_type": "stream",
     "text": [
      "  0.354179 seconds (946.51 k allocations: 47.009 MiB, 8.49% gc time)\n"
     ]
    },
    {
     "data": {
      "text/plain": [
       "([0.0, -0.3571428571428572], [0.6428571428571428, -0.42857142857142877])"
      ]
     },
     "execution_count": 68,
     "metadata": {},
     "output_type": "execute_result"
    }
   ],
   "source": [
    "@time sol = As\\rhs"
   ]
  },
  {
   "cell_type": "code",
   "execution_count": 69,
   "metadata": {},
   "outputs": [
    {
     "data": {
      "text/plain": [
       "([1.0, 2.0], [2.9999999999999996, 4.0])"
      ]
     },
     "execution_count": 69,
     "metadata": {},
     "output_type": "execute_result"
    }
   ],
   "source": [
    "As*sol"
   ]
  },
  {
   "cell_type": "markdown",
   "metadata": {},
   "source": [
    "### [WIP] Saddle system of a saddle system"
   ]
  },
  {
   "cell_type": "markdown",
   "metadata": {},
   "source": [
    "First, try a basic matrix system"
   ]
  },
  {
   "cell_type": "code",
   "execution_count": 236,
   "metadata": {},
   "outputs": [
    {
     "data": {
      "text/plain": [
       "Saddle system with 2 states and 1 constraints and\n",
       "   State vector of type Array{Float64,1}\n",
       "   Constraint vector of type Array{Float64,1}\n",
       "   Elements of type Float64\n"
      ]
     },
     "execution_count": 236,
     "metadata": {},
     "output_type": "execute_result"
    }
   ],
   "source": [
    "# A 3 x 3 upper left block, treated as a saddle system\n",
    "A1 = Amat[1:2,1:2]\n",
    "B21 = Amat[3:3,1:2];\n",
    "B11t = B21';\n",
    "C1 = Amat[3:3,3:3]\n",
    "rhs11v = rhsv[1:2];\n",
    "rhs12v = rhsv[3:3];\n",
    "\n",
    "rhs1 = SaddleVector(rhs11v,rhs12v)\n",
    "\n",
    "A = SaddleSystem(A1,B21,B11t,C1,rhs1)"
   ]
  },
  {
   "cell_type": "code",
   "execution_count": 342,
   "metadata": {},
   "outputs": [],
   "source": [
    "# Now the constraint blocks for the outer saddle system\n",
    "B22 = Amat[4:4,1:3];\n",
    "B12t = Amat[1:3,4:4];\n",
    "C2 = Amat[4:4,4:4];\n",
    "\n",
    "# and the rhs for its constraint\n",
    "rhs2 = rhsv[4:4];\n",
    "\n",
    "rhsbig = SaddleVector(rhs1,rhs2)\n",
    "#Abig = SaddleSystem(A,B22p,B12tp,C2,rhsbig);"
   ]
  },
  {
   "cell_type": "code",
   "execution_count": 341,
   "metadata": {},
   "outputs": [
    {
     "data": {
      "text/plain": [
       "1-element Array{Float64,1}:\n",
       " -1.9999999999999987"
      ]
     },
     "execution_count": 341,
     "metadata": {},
     "output_type": "execute_result"
    }
   ],
   "source": [
    "y = B22p*(A\\(B12tp*rhs2))"
   ]
  },
  {
   "cell_type": "code",
   "execution_count": 267,
   "metadata": {},
   "outputs": [
    {
     "data": {
      "text/plain": [
       "([-1.0; -1.0], [-2.0])"
      ]
     },
     "execution_count": 267,
     "metadata": {},
     "output_type": "execute_result"
    }
   ],
   "source": [
    "B22p = ArrayPartition(view(B22,:,1:2),view(B22,:,3:3))\n",
    "B12tp = ArrayPartition(view(B12t,1:2,:),view(B12t,3:3,:))"
   ]
  },
  {
   "cell_type": "code",
   "execution_count": 340,
   "metadata": {},
   "outputs": [
    {
     "data": {
      "text/plain": [
       "1-element Array{Float64,1}:\n",
       " -1.9999999999999987"
      ]
     },
     "execution_count": 340,
     "metadata": {},
     "output_type": "execute_result"
    }
   ],
   "source": [
    "B22p*y"
   ]
  },
  {
   "cell_type": "code",
   "execution_count": 337,
   "metadata": {},
   "outputs": [
    {
     "data": {
      "text/plain": [
       "* (generic function with 504 methods)"
      ]
     },
     "execution_count": 337,
     "metadata": {},
     "output_type": "execute_result"
    }
   ],
   "source": [
    "function mul!(y::AbstractVector,Ap::ArrayPartition,x::ArrayPartition)\n",
    "    fill!(y,0.0)\n",
    "    for (i,A) in enumerate(Ap.x)\n",
    "        y .+= A*vec(x.x[i])\n",
    "    end\n",
    "    return y\n",
    "end\n",
    "(*)(Ap::ArrayPartition{T},x::ArrayPartition{T}) where {T} = mul!(zeros(T,size(Ap.x[1],1)),Ap,x)"
   ]
  },
  {
   "cell_type": "code",
   "execution_count": 336,
   "metadata": {},
   "outputs": [
    {
     "data": {
      "text/plain": [
       "2-element Array{Float64,1}:\n",
       " -4.440892098500626e-16\n",
       " -1.0                  "
      ]
     },
     "execution_count": 336,
     "metadata": {},
     "output_type": "execute_result"
    }
   ],
   "source": [
    "vec(y.x[1])"
   ]
  },
  {
   "cell_type": "code",
   "execution_count": 279,
   "metadata": {},
   "outputs": [
    {
     "data": {
      "text/plain": [
       "true"
      ]
     },
     "execution_count": 279,
     "metadata": {},
     "output_type": "execute_result"
    }
   ],
   "source": [
    "all(size.(B12tp.x,2) .== 1)"
   ]
  },
  {
   "cell_type": "code",
   "execution_count": 314,
   "metadata": {},
   "outputs": [
    {
     "data": {
      "text/plain": [
       "* (generic function with 504 methods)"
      ]
     },
     "execution_count": 314,
     "metadata": {},
     "output_type": "execute_result"
    }
   ],
   "source": [
    "function mul!(y::ArrayPartition,Ap::ArrayPartition,x::AbstractVector)\n",
    "    all(size.(Ap.x,2) .== 1) || error(\"Inconsistent column numbers in partition.\")\n",
    "    fill!(y,0.0)\n",
    "    for (i,A) in enumerate(Ap.x)\n",
    "        y.x[i] .+= A*x\n",
    "    end\n",
    "    return y\n",
    "end\n",
    "(*)(Ap::ArrayPartition{T},x::AbstractVector{T}) where {T} = mul!(similar(Ap,Float64,Float64),Ap,x)"
   ]
  },
  {
   "cell_type": "code",
   "execution_count": 312,
   "metadata": {},
   "outputs": [
    {
     "data": {
      "text/plain": [
       "([5.0e-324; 2.216656405e-314], [1.99196138e-315])"
      ]
     },
     "execution_count": 312,
     "metadata": {},
     "output_type": "execute_result"
    }
   ],
   "source": [
    "y = similar(B12tp,Float64,Float64)"
   ]
  },
  {
   "cell_type": "code",
   "execution_count": 311,
   "metadata": {},
   "outputs": [
    {
     "data": {
      "text/plain": [
       "2×1 Array{Array{Float64,1},2}:\n",
       " #undef\n",
       " #undef"
      ]
     },
     "execution_count": 311,
     "metadata": {},
     "output_type": "execute_result"
    }
   ],
   "source": [
    "y.x[1]"
   ]
  },
  {
   "cell_type": "code",
   "execution_count": 315,
   "metadata": {},
   "outputs": [
    {
     "data": {
      "text/plain": [
       "([-4.0; -4.0], [-8.0])"
      ]
     },
     "execution_count": 315,
     "metadata": {},
     "output_type": "execute_result"
    }
   ],
   "source": [
    "B12tp*rhs2"
   ]
  },
  {
   "cell_type": "code",
   "execution_count": 159,
   "metadata": {},
   "outputs": [
    {
     "name": "stdout",
     "output_type": "stream",
     "text": [
      "  0.000014 seconds (9 allocations: 400 bytes)\n"
     ]
    },
    {
     "data": {
      "text/plain": [
       "3-element Array{Float64,1}:\n",
       " 1.0\n",
       " 2.0\n",
       " 3.0"
      ]
     },
     "execution_count": 159,
     "metadata": {},
     "output_type": "execute_result"
    }
   ],
   "source": [
    "@time convert(Vector,rhs1)"
   ]
  },
  {
   "cell_type": "code",
   "execution_count": 152,
   "metadata": {},
   "outputs": [
    {
     "ename": "DimensionMismatch",
     "evalue": "DimensionMismatch(\"result C has length 3, needs length 1\")",
     "output_type": "error",
     "traceback": [
      "DimensionMismatch(\"result C has length 3, needs length 1\")",
      "",
      "Stacktrace:",
      " [1] generic_matvecmul!(::RecursiveArrayTools.ArrayPartition{Float64,Tuple{Array{Float64,1},Array{Float64,1}}}, ::Char, ::Array{Float64,2}, ::RecursiveArrayTools.ArrayPartition{Float64,Tuple{Array{Float64,1},Array{Float64,1}}}) at /Users/sabae/buildbot/worker/package_macos64/build/usr/share/julia/stdlib/v1.2/LinearAlgebra/src/matmul.jl:508",
      " [2] mul! at /Users/sabae/buildbot/worker/package_macos64/build/usr/share/julia/stdlib/v1.2/LinearAlgebra/src/matmul.jl:77 [inlined]",
      " [3] *(::Array{Float64,2}, ::RecursiveArrayTools.ArrayPartition{Float64,Tuple{Array{Float64,1},Array{Float64,1}}}) at /Users/sabae/buildbot/worker/package_macos64/build/usr/share/julia/stdlib/v1.2/LinearAlgebra/src/matmul.jl:51",
      " [4] top-level scope at In[152]:1"
     ]
    }
   ],
   "source": [
    "B22*rhs1"
   ]
  },
  {
   "cell_type": "code",
   "execution_count": 16,
   "metadata": {},
   "outputs": [],
   "source": [
    "# rhs1 is the RHS array for the inner saddle point system\n",
    "rhs11 = [1.0,2.0];\n",
    "rhs12 = Vector{Float64}(undef,1)\n",
    "rhs12 .= 3.0;\n",
    "#rhs1 = (rhs11,rhs12)\n",
    "rhs1 = [rhs11;rhs12];\n",
    "sol1 = zero(rhs1)\n",
    "\n",
    "# rhs2 is the RHS array for the remainder of the outer saddle system\n",
    "rhs2 = Vector{Float64}(undef,1)\n",
    "rhs2 .= 4.0;\n",
    "sol2 = zero(rhs2)\n",
    "\n",
    "rhs = (rhs1,rhs2);\n",
    "sol = (sol1,sol2);"
   ]
  },
  {
   "cell_type": "code",
   "execution_count": 17,
   "metadata": {},
   "outputs": [],
   "source": [
    "Abig = SaddleSystem(A,B22,B12,C2,rhs1,rhs2);"
   ]
  },
  {
   "cell_type": "code",
   "execution_count": 18,
   "metadata": {},
   "outputs": [
    {
     "data": {
      "text/plain": [
       "([-4.440892098500626e-16, -0.3571428571428571, 0.6428571428571432], [-0.4285714285714282])"
      ]
     },
     "execution_count": 18,
     "metadata": {},
     "output_type": "execute_result"
    }
   ],
   "source": [
    "sol = Abig\\rhs"
   ]
  },
  {
   "cell_type": "code",
   "execution_count": 19,
   "metadata": {},
   "outputs": [
    {
     "data": {
      "text/plain": [
       "([1.0, 1.9999999999999998, 3.0000000000000004], [4.0])"
      ]
     },
     "execution_count": 19,
     "metadata": {},
     "output_type": "execute_result"
    }
   ],
   "source": [
    "out = Abig*sol"
   ]
  },
  {
   "cell_type": "code",
   "execution_count": 20,
   "metadata": {},
   "outputs": [
    {
     "data": {
      "text/plain": [
       "4.965068306494546e-16"
      ]
     },
     "execution_count": 20,
     "metadata": {},
     "output_type": "execute_result"
    }
   ],
   "source": [
    "norm(out[1]-rhs1)"
   ]
  },
  {
   "cell_type": "code",
   "execution_count": null,
   "metadata": {},
   "outputs": [],
   "source": []
  }
 ],
 "metadata": {
  "kernelspec": {
   "display_name": "Julia 1.2.0",
   "language": "julia",
   "name": "julia-1.2"
  },
  "language_info": {
   "file_extension": ".jl",
   "mimetype": "application/julia",
   "name": "julia",
   "version": "1.2.0"
  }
 },
 "nbformat": 4,
 "nbformat_minor": 2
}
